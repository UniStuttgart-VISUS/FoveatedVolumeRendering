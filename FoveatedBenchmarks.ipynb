{
 "cells": [
  {
   "cell_type": "code",
   "execution_count": 1,
   "metadata": {},
   "outputs": [],
   "source": [
    "import pandas as pd\n",
    "import csv\n",
    "import numpy as np\n",
    "import glob\n",
    "import os\n",
    "import matplotlib.pyplot as plt\n",
    "from os import listdir, walk\n",
    "from os.path import isfile, join\n",
    "import seaborn as sns\n",
    "from matplotlib.lines import Line2D\n",
    "import matplotlib"
   ]
  },
  {
   "cell_type": "code",
   "execution_count": 2,
   "metadata": {},
   "outputs": [],
   "source": [
    "volumes = ['chameleon', 'combustion64', 'flower', 'supernova1328', 'vortex64', 'zeiss']"
   ]
  },
  {
   "cell_type": "code",
   "execution_count": 3,
   "metadata": {},
   "outputs": [
    {
     "name": "stdout",
     "output_type": "stream",
     "text": [
      "['chameleon_LBG-Sampling', 'chameleon_Standard', 'combustion64_LBG-Sampling', 'combustion64_Standard', 'flower_LBG-Sampling', 'flower_Standard', 'supernova1328_LBG-Sampling', 'supernova1328_Standard', 'vortex64_LBG-Sampling', 'vortex64_Standard', 'zeiss_LBG-Sampling', 'zeiss_Standard']\n"
     ]
    }
   ],
   "source": [
    "path = r'/mnt/nethome/brudervn/data/foveated/benchmarks/paper/'\n",
    "onlyfiles = [f for f in listdir(path) if isfile(join(path, f))]\n",
    "print(onlyfiles)"
   ]
  },
  {
   "cell_type": "code",
   "execution_count": 4,
   "metadata": {},
   "outputs": [],
   "source": [
    "df_std = []\n",
    "df_fov = []\n",
    "\n",
    "for i in range(0, len(volumes)):\n",
    "    f_std = open(path + volumes[i] + '_Standard')\n",
    "    f_fov = open(path + volumes[i] + '_LBG-Sampling')\n",
    "    df_std.append(pd.read_csv(f_std, delimiter=';', header=None))\n",
    "    df_fov.append(pd.read_csv(f_fov, delimiter=';', header=None))"
   ]
  },
  {
   "cell_type": "code",
   "execution_count": 5,
   "metadata": {},
   "outputs": [],
   "source": [
    "for i in range(0, len(volumes)):    \n",
    "    df_std[i].columns = ['t', 'rotation', 'translation', 'gaze', 'exec']\n",
    "    df_fov[i].columns = ['t', 'rotation', 'translation', 'gaze', 'exec']"
   ]
  },
  {
   "cell_type": "code",
   "execution_count": 6,
   "metadata": {},
   "outputs": [
    {
     "name": "stdout",
     "output_type": "stream",
     "text": [
      "chameleon\n",
      "  mean: 10.02194343239171\n",
      "  std: 5.165157152432522\n",
      "combustion64\n",
      "  mean: 6.485221916616566\n",
      "  std: 3.059373688688805\n",
      "flower\n",
      "  mean: 13.499732928786077\n",
      "  std: 7.28985553911689\n",
      "supernova1328\n",
      "  mean: 9.498881481445347\n",
      "  std: 3.874573235879714\n",
      "vortex64\n",
      "  mean: 9.535821602989788\n",
      "  std: 2.8989294076812646\n",
      "zeiss\n",
      "  mean: 5.646796889047538\n",
      "  std: 2.1860174946399833\n"
     ]
    },
    {
     "data": {
      "text/plain": [
       "4.0789844197398635"
      ]
     },
     "execution_count": 6,
     "metadata": {},
     "output_type": "execute_result"
    }
   ],
   "source": [
    "df_medians_std = []\n",
    "df_medians_fov = []\n",
    "\n",
    "interpol_mean = []\n",
    "interpol_std = []\n",
    "\n",
    "for i in range(0, len(volumes)):\n",
    "    df_medians_std.append(df_std[i].groupby('rotation', sort=False).median())\n",
    "    df_medians_fov.append(df_fov[i].groupby(['rotation', 'gaze'], sort=False).median())\n",
    "    print(volumes[i])\n",
    "#     print(' standard fps:')\n",
    "#     print('  mean: ' + str(1.0 / df_medians_std[i]['exec'].mean()))\n",
    "#     print('  std: ' + str(1.0 / df_medians_std[i]['exec'].std()))\n",
    "#     print('  min: ' + str(1.0 / df_medians_std[i]['exec'].min()))\n",
    "#     print('  max: ' + str(1.0 / df_medians_std[i]['exec'].max()))         \n",
    "#     print(' foveated fps:')\n",
    "    print('  mean: ' + str(df_medians_fov[i]['exec'].mean() * 1000))\n",
    "    print('  std: ' + str(df_medians_fov[i]['exec'].std() * 1000))\n",
    "#     print('  min: ' + str(1.0 / df_medians_fov[i]['exec'].min()))\n",
    "#     print('  max: ' + str(1.0 / df_medians_fov[i]['exec'].max()))  \n",
    "    interpol_mean.append(df_medians_fov[i]['exec'].mean() * 1000)\n",
    "    interpol_std.append(df_medians_fov[i]['exec'].std() * 1000)\n",
    "\n",
    "sum(interpol_std) / len(interpol_std)"
   ]
  },
  {
   "cell_type": "markdown",
   "metadata": {},
   "source": [
    "# gaze vs regular"
   ]
  },
  {
   "cell_type": "code",
   "execution_count": 7,
   "metadata": {},
   "outputs": [],
   "source": [
    "df_gaze_mean = []\n",
    "for i in range(0, len(volumes)):\n",
    "    df_gaze_mean.append(df_medians_fov[i].groupby('rotation', sort=False).mean())"
   ]
  },
  {
   "cell_type": "code",
   "execution_count": 8,
   "metadata": {},
   "outputs": [
    {
     "name": "stdout",
     "output_type": "stream",
     "text": [
      "chameleon\n",
      "mean 2.8170918603597204\n",
      "median 2.8086361611782533\n",
      "combustion64\n",
      "mean 1.9292755454850399\n",
      "median 1.9603168029877853\n",
      "flower\n",
      "mean 2.990567093988071\n",
      "median 3.49539183105448\n",
      "supernova1328\n",
      "mean 2.70240768024247\n",
      "median 2.759539069798884\n",
      "vortex64\n",
      "mean 3.165996602457064\n",
      "median 3.188047326328962\n",
      "zeiss\n",
      "mean 1.831810453565573\n",
      "median 1.8221193399341322\n"
     ]
    }
   ],
   "source": [
    "df_merge = []\n",
    "speedup = []\n",
    "for i in range(0, len(volumes)):\n",
    "    df_merge = pd.merge(df_medians_std[i], df_gaze_mean[i],  how='left', left_on=['rotation'], right_on = ['rotation'])\n",
    "    speedup.append(df_merge['exec_x'] / df_merge['exec_y'])\n",
    "    print(volumes[i])\n",
    "    print('mean ' + str(speedup[i].mean()))\n",
    "    print('median ' + str(speedup[i].median()))"
   ]
  },
  {
   "cell_type": "code",
   "execution_count": 9,
   "metadata": {},
   "outputs": [
    {
     "data": {
      "image/png": "[encoded data removed]",
      "text/plain": [
       "<Figure size 432x288 with 1 Axes>"
      ]
     },
     "metadata": {},
     "output_type": "display_data"
    }
   ],
   "source": [
    "volume_lbls = ['Chameleon', 'Combustion', 'Flower', 'Supernova', 'Vortex cascade', 'Zeiss']\n",
    "ax = sns.boxplot(y=volume_lbls, x=speedup)"
   ]
  },
  {
   "cell_type": "code",
   "execution_count": 10,
   "metadata": {},
   "outputs": [
    {
     "data": {
      "image/png": "[encoded data removed]",
      "text/plain": [
       "<Figure size 432x288 with 1 Axes>"
      ]
     },
     "metadata": {},
     "output_type": "display_data"
    }
   ],
   "source": [
    "ax = sns.boxplot(x=speedup[4])"
   ]
  },
  {
   "cell_type": "code",
   "execution_count": 11,
   "metadata": {},
   "outputs": [
    {
     "data": {
      "image/png": "[encoded data removed]",
      "text/plain": [
       "<Figure size 360x144 with 1 Axes>"
      ]
     },
     "metadata": {},
     "output_type": "display_data"
    }
   ],
   "source": [
    "fig = plt.figure()\n",
    "fig.set_size_inches(5,2)\n",
    "\n",
    "ax = plt.Axes(fig, [0., 0., 1., 1.])\n",
    "ax.set_xlim(-0.0001,5.1)\n",
    "ax.set_frame_on(False)\n",
    "ax.get_yaxis().set_visible(False)\n",
    "#matplotlib.rc('xtick', labelsize=20) \n",
    "\n",
    "xmin, xmax = ax.get_xaxis().get_view_interval()\n",
    "ymin, ymax = ax.get_yaxis().get_view_interval()\n",
    "ax.add_artist(Line2D((xmin, xmax), (ymin, ymin), color='black', linewidth=2))\n",
    "\n",
    "fig.add_axes(ax)\n",
    "\n",
    "#ax.boxplot(speedup[0], vert=False)\n",
    "plt.show()\n",
    "fig.savefig('box_axis.pdf', bbox_inches='tight', pad_inches=0)"
   ]
  },
  {
   "cell_type": "code",
   "execution_count": 12,
   "metadata": {},
   "outputs": [
    {
     "data": {
      "image/png": "[encoded data removed]",
      "text/plain": [
       "<Figure size 360x144 with 1 Axes>"
      ]
     },
     "metadata": {},
     "output_type": "display_data"
    },
    {
     "data": {
      "image/png": "[encoded data removed]",
      "text/plain": [
       "<Figure size 360x144 with 1 Axes>"
      ]
     },
     "metadata": {},
     "output_type": "display_data"
    },
    {
     "data": {
      "image/png": "[encoded data removed]",
      "text/plain": [
       "<Figure size 360x144 with 1 Axes>"
      ]
     },
     "metadata": {},
     "output_type": "display_data"
    },
    {
     "data": {
      "image/png": "[encoded data removed]",
      "text/plain": [
       "<Figure size 360x144 with 1 Axes>"
      ]
     },
     "metadata": {},
     "output_type": "display_data"
    },
    {
     "data": {
      "image/png": "[encoded data removed]",
      "text/plain": [
       "<Figure size 360x144 with 1 Axes>"
      ]
     },
     "metadata": {},
     "output_type": "display_data"
    },
    {
     "data": {
      "image/png": "[encoded data removed]",
      "text/plain": [
       "<Figure size 360x144 with 1 Axes>"
      ]
     },
     "metadata": {},
     "output_type": "display_data"
    }
   ],
   "source": [
    "for i in range(0, len(volumes)):\n",
    "    fig = plt.figure(frameon=False)\n",
    "    fig.set_size_inches(5,2)\n",
    "\n",
    "    ax = plt.Axes(fig, [0., 0., 1., 1.])\n",
    "    ax.set_xlim(0,5.1)\n",
    "    ax.set_axis_off()\n",
    "    fig.add_axes(ax)\n",
    "\n",
    "    bp = ax.boxplot(speedup[i], vert=False)\n",
    "    plt.setp(bp['medians'], color='black')\n",
    "    \n",
    "    plt.show()\n",
    "    fig.savefig('box_' + volumes[i] + '.pdf', bbox_inches='tight', pad_inches=0)"
   ]
  },
  {
   "cell_type": "code",
   "execution_count": null,
   "metadata": {},
   "outputs": [],
   "source": []
  }
 ],
 "metadata": {
  "kernelspec": {
   "display_name": "Python 3",
   "language": "python",
   "name": "python3"
  },
  "language_info": {
   "codemirror_mode": {
    "name": "ipython",
    "version": 3
   },
   "file_extension": ".py",
   "mimetype": "text/x-python",
   "name": "python",
   "nbconvert_exporter": "python",
   "pygments_lexer": "ipython3",
   "version": "3.7.1"
  }
 },
 "nbformat": 4,
 "nbformat_minor": 2
}
